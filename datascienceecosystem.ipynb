{
 "cells": [
  {
   "cell_type": "markdown",
   "id": "bb4842e7-daeb-4e7d-acc4-de47bff40b71",
   "metadata": {},
   "source": [
    "# data science tool and ecosytem"
   ]
  },
  {
   "cell_type": "markdown",
   "id": "d787145d-2475-48f8-b9f9-3efc9792ac57",
   "metadata": {},
   "source": [
    "In this notebook, Data Science Tools and Ecosystem are summarized."
   ]
  },
  {
   "cell_type": "markdown",
   "id": "b8196e58-5939-45f7-b8c3-402a00203ae5",
   "metadata": {},
   "source": [
    "Some of the popular languages that Data Scientists use are:\n",
    "1. Python\n",
    "2. R\n",
    "3. SQL"
   ]
  },
  {
   "cell_type": "markdown",
   "id": "169e1f1b-9160-47f7-bdcf-9d2f4b4e969c",
   "metadata": {},
   "source": [
    "Some of the commonly used libraries used by Data Scientists include:\n",
    "1. Pandas\n",
    "2. NumPy\n",
    "3. Matplotlib"
   ]
  },
  {
   "cell_type": "markdown",
   "id": "27a7f7b7-f233-4192-8ba1-5da5959908f2",
   "metadata": {},
   "source": [
    "| Data Science Tools |\n",
    "|--------------------|\n",
    "| Jupyter Notebook   |\n",
    "| RStudio            |\n",
    "| Apache Zeppelin    |\n"
   ]
  },
  {
   "cell_type": "markdown",
   "id": "384d2917-89ad-4680-8e87-3add5d7987d9",
   "metadata": {},
   "source": [
    "### Below are a few examples of evaluating arithmetic expressions in Python."
   ]
  },
  {
   "cell_type": "code",
   "execution_count": 1,
   "id": "00b69075-e86d-4795-a1e6-0db58043f3ed",
   "metadata": {},
   "outputs": [
    {
     "data": {
      "text/plain": [
       "17"
      ]
     },
     "execution_count": 1,
     "metadata": {},
     "output_type": "execute_result"
    }
   ],
   "source": [
    "# This is a simple arithmetic expression to multiply then add integers\n",
    "result = (3 * 4) + 5\n",
    "result\n"
   ]
  },
  {
   "cell_type": "code",
   "execution_count": 2,
   "id": "8b75fceb-8d07-47e5-978c-bb0e027c0d5f",
   "metadata": {},
   "outputs": [
    {
     "data": {
      "text/plain": [
       "3.3333333333333335"
      ]
     },
     "execution_count": 2,
     "metadata": {},
     "output_type": "execute_result"
    }
   ],
   "source": [
    "# This will convert 200 minutes to hours by dividing by 60\n",
    "minutes = 200\n",
    "hours = minutes / 60\n",
    "hours\n"
   ]
  },
  {
   "cell_type": "markdown",
   "id": "dac07d5f-4de8-4720-843b-38ab192cf891",
   "metadata": {},
   "source": [
    "**Objectives:**\n",
    "\n",
    "- List popular languages for Data Science\n",
    "- List common libraries used by Data Scientists\n",
    "- Create a table to display Data Science tools\n",
    "- Perform arithmetic operations in Python\n",
    "- Convert minutes to hours in Python"
   ]
  },
  {
   "cell_type": "markdown",
   "id": "c4842d90-a764-4630-aa4d-8e4652f4a735",
   "metadata": {},
   "source": [
    "## Author\n",
    "Sweezal "
   ]
  },
  {
   "cell_type": "code",
   "execution_count": null,
   "id": "ef3704d8-e819-48e5-be3a-04e2f959a028",
   "metadata": {},
   "outputs": [],
   "source": []
  }
 ],
 "metadata": {
  "kernelspec": {
   "display_name": "Python 3 (ipykernel)",
   "language": "python",
   "name": "python3"
  },
  "language_info": {
   "codemirror_mode": {
    "name": "ipython",
    "version": 3
   },
   "file_extension": ".py",
   "mimetype": "text/x-python",
   "name": "python",
   "nbconvert_exporter": "python",
   "pygments_lexer": "ipython3",
   "version": "3.12.8"
  }
 },
 "nbformat": 4,
 "nbformat_minor": 5
}
